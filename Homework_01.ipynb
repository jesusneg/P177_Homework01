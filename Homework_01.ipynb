{
 "cells": [
  {
   "cell_type": "markdown",
   "metadata": {},
   "source": [
    "# Homework 1: Setup & Rounding Error\n",
    "Physics 177, Spring 2017  (Prof. Tanedo)  \n",
    "**Due**: Tuesday, April 18\n",
    "\n",
    "Jesus Negrete  "
   ]
  },
  {
   "cell_type": "markdown",
   "metadata": {},
   "source": [
    "## Discussion\n",
    "\n",
    "Feel free to use whatever resources you need to get up to speed with the tools (Python, Jupyter, GitHub). You are encouraged to work with other students, especially for technical set up. Please note the following:\n",
    "* While you are free to discuss the problems, every line of code you type should be your own and *not* copied-and-pasted from anyone else. You should write your code without referring to anyone else.\n",
    "* We will penalize plagiarism harshly.\n"
   ]
  },
  {
   "cell_type": "markdown",
   "metadata": {},
   "source": [
    "## 1. Getting Set Up\n",
    "\n",
    "Set up **Python** on your system. Version 3.6 is preferred, but we shouldn't have any major problems if you're using an earlier 3.x version or 2.7.\n",
    "\n",
    "You are also responsible for setting up the **Jupyter** notebook (formerly iPython) environment. \n",
    "\n",
    "Sign up for a free **GitHub** account. The account should be associated with your UCR e-mail address. (You may also use an existing account.) All work for this course will be completed in Jupyter notebooks and submitted to GitHub. \n",
    "- I strongly suggest that you use a professional username. Your GitHub account is a de-facto resume/CV when you apply for jobs (both academic and industry).\n",
    "- I also suggest uploading a photo to help us learn your names.\n",
    "\n",
    "**Important**: send an e-mail to Prof. Tanedo and Corey Kownacki (TA). The subject of the e-mail should be *P177: Homework 1* and you should clearly indicate your GitHub username and the URL to your GitHub account. \n"
   ]
  },
  {
   "cell_type": "markdown",
   "metadata": {},
   "source": [
    "## 2. Cloning this notebook\n",
    "\n",
    "Homework, like this one, will be posted to the course GitHub:  \n",
    "https://github.com/orgs/Physics177-2017/  \n",
    "\n",
    "For those already familiar with GitHub, you can go ahead and fork a copy of this notebook. The instructions below are the \"round-about\" way of doing things.\n",
    "\n",
    "1. Download (\"clone\") this notebook to your own computer.\n",
    "\n",
    "2. Open your local copy of this notebook.\n",
    "\n",
    "3. Go to the top cell of this notebook and replace \"**Your Name**\" with your actual name. *Remark*: the anime film *Your Name* was recently released in US theaters. As of this writing, it has a 79% score on Metacritic.\n",
    "\n",
    "4. Save this notebook\n",
    "\n",
    "5. Create a new repository on GitHub called **P177_Homework01**. Initialize it with a **README.md** file, where you can briefly explain that this is Homework 1. Feel free to add any other comments in the README that you think are appropriate.\n",
    "\n",
    "6. Upload your local copy of this notebook to this repository. Be sure to write a brief note under **Commit changes**. Say something like \"initial upload.\"\n",
    "\n",
    "7. Make sure that the copy of your homework in your repository actually has your name on top. If not, troubleshoot."
   ]
  },
  {
   "cell_type": "markdown",
   "metadata": {},
   "source": [
    "## 3. Markdown Practice\n",
    "\n",
    "For this problem, I'd like you **create a markdown cell** just below this one and explore the markdown syntax. Use *Insert* > *Insert Cell Below* from this cell.\n",
    "\n",
    "Here's one useful reference:\n",
    "https://github.com/adam-p/markdown-here/wiki/Markdown-Cheatsheet\n",
    "\n",
    "I'd like you to include the following in this new cell:\n",
    "1. Create a subheading (using two hashtags) \n",
    "2. Create a list\n",
    "3. Use **boldface** and *italics*\n",
    "4. Your favorite equation, written in $\\LaTeX$\n",
    "5. Embed a YouTube trailer of the film *Your Name*. For this you may want to refer to http://stackoverflow.com/a/27315283. "
   ]
  },
  {
   "cell_type": "markdown",
   "metadata": {},
   "source": [
    "## 3a.Kimi no na wa\n",
    "1. **_Games_**\n",
    "2. _Food_\n",
    "3. **Lamborghini**\n",
    "4. **_Knowledge_**\n",
    "$$\\int e^{-a x^2} dx = \\sqrt{\\frac{\\pi}{a}} $$\n",
    "[![Kimi no na wa](http://img.youtube.com/vi/xU47nhruN-Q/0.jpg)](http://www.youtube.com/watch?v=hRfHcp2GjVI)\n"
   ]
  },
  {
   "cell_type": "markdown",
   "metadata": {},
   "source": [
    "## 4. Simpson's Rule\n",
    "In class we built a simple Riemann sum integrator. The code that we wrote together is posted here:\n",
    "https://github.com/Physics177-2017/Lec03-Rounding-Error\n",
    "\n",
    "In this problem, please perform the *same* analysis on the *same* test function using **Simpson's rule**. \n",
    "\n",
    "What's that? Well, you'll have to read a little about it. You can find a discussion in section 5.1.2 of the course textbook (Newman, *Computational Physics*, 2nd ed.). For those who do not have a copy, you can find a discussion in Chapter 3 of Stickler's *Basic concepts in computational physics*, which is available electronically through the UCR library here: http://scotty.ucr.edu/record=b5077839~S5 (click on \"Connect to: SpringerLink\")\n",
    "\n",
    "Create a cell below this one and do the following:\n",
    "1. Create an \"integrator\" function that takes in a function and a spacing, $\\Delta x$, and outputs the integral of that function from 0 .to 1 using Simpson's rule.\n",
    "\n",
    "2. Use the same test function that we did in lecture: $$f(x) = 3.0\\times 10^{-10} x^2.$$\n",
    "\n",
    "3. Find the error on your algorithm (compared to the exact result) for $\\Delta x$ of $10^{-1}, \\cdots, 10^{-7}$.\n",
    "\n",
    "4. Compare this to the errors that we found using the Riemann sum. Are they better? Worse? What happens as we approach the \"$10^{-16}$\" numerical precision?"
   ]
  },
  {
   "cell_type": "code",
   "execution_count": 10,
   "metadata": {
    "collapsed": false
   },
   "outputs": [],
   "source": [
    "def f(x):\n",
    "    return 3*(10**-10)*x**2\n",
    "def integrator(f,deltax):\n",
    "    \"\"\"This will take the integral of a function from 0 to 1.\n",
    "    input: the function and its spacing\n",
    "    output: integral using Simpson's rule\"\"\"\n",
    "    space = 0\n",
    "    area = 0.0\n",
    "    while(space < 1):\n",
    "        area += (deltax/3)*(f(space)+4*f(space+deltax)+f(space+(2*deltax))) \n",
    "        space += (2*deltax)\n",
    "        \n",
    "    return area\n",
    "\n",
    "Listdelta=[]\n",
    "for i in range (1,8):\n",
    "    Listdelta.append(10**-i)\n",
    "    \n",
    "def errorFound(deltax):\n",
    "    \"\"\"This should be giving the error from taking the integral using Simpson's rule\n",
    "    Input: the three points for the function\n",
    "    output: error\"\"\"\n",
    "    return (10**-10) - integrator(f,deltax)\n",
    "def Trapsum(f,deltax):\n",
    "    \"\"\"Trapezoidal Sum\n",
    "    Input: the function which will be examined and the base of the trapezoid\n",
    "    Output: area of the function with the Trapezoidal rule under the curve\"\"\"\n",
    "    space = 0.0\n",
    "    area = 0.0\n",
    "    while(space < 1):\n",
    "        area += deltax*((f(space)/2)+(f(space+deltax)/2))\n",
    "        space += deltax\n",
    "        \n",
    "    return area\n",
    "def errorTrap(deltax):\n",
    "    \"\"\"error that the Trapezoidal rule produces\"\"\"\n",
    "    return (10**-10) - Trapsum(f,deltax)\n",
    "def Riemannsum(f,deltax):\n",
    "    \"\"\"Rieamann Sum with the recatngles being around the center\n",
    "    Input: the function and the width of rectangles\n",
    "    Output: area of the function under the curve\"\"\"\n",
    "    space = deltax/2\n",
    "    area = 0\n",
    "    while (space < 1):\n",
    "        area += f(space)\n",
    "        space += deltax\n",
    "        \n",
    "    return area\n",
    "def errorRiemann(deltax):\n",
    "    \"\"\"error with the mid rule\"\"\"\n",
    "    return 10**-10 - Riemannsum(f,deltax)"
   ]
  },
  {
   "cell_type": "code",
   "execution_count": 3,
   "metadata": {
    "collapsed": false
   },
   "outputs": [
    {
     "data": {
      "text/plain": [
       "[-1.2924697071141057e-26,\n",
       " -9.04728794979874e-26,\n",
       " -1.809457589959748e-25,\n",
       " -6.001200078728672e-14,\n",
       " -1.1745964698252993e-22,\n",
       " -5.99999655269872e-16,\n",
       " -5.135628381217899e-21]"
      ]
     },
     "execution_count": 3,
     "metadata": {},
     "output_type": "execute_result"
    }
   ],
   "source": [
    "list(map(errorFound,Listdelta))"
   ]
  },
  {
   "cell_type": "code",
   "execution_count": 8,
   "metadata": {
    "collapsed": false
   },
   "outputs": [
    {
     "data": {
      "text/plain": [
       "[-8.974999999999997e-10,\n",
       " -9.89975000000001e-09,\n",
       " -9.989997500000015e-08,\n",
       " -9.99899997499826e-07,\n",
       " -9.99989999973116e-06,\n",
       " -9.999990000012305e-05,\n",
       " -0.000999999899707455]"
      ]
     },
     "execution_count": 8,
     "metadata": {},
     "output_type": "execute_result"
    }
   ],
   "source": [
    "list(map(errorRiemann,Listdelta))"
   ]
  },
  {
   "cell_type": "code",
   "execution_count": 9,
   "metadata": {
    "collapsed": false
   },
   "outputs": [
    {
     "data": {
      "text/plain": [
       "[-3.3649999999999995e-11,\n",
       " -5.000000000120441e-15,\n",
       " -5.000000013226084e-17,\n",
       " -3.000350013272783e-14,\n",
       " -3.0000348115211493e-15,\n",
       " -1.983811753449441e-22,\n",
       " -2.9970748248370485e-17]"
      ]
     },
     "execution_count": 9,
     "metadata": {},
     "output_type": "execute_result"
    }
   ],
   "source": [
    "list(map(errorTrap,Listdelta))"
   ]
  },
  {
   "cell_type": "markdown",
   "metadata": {},
   "source": [
    "## 5. Thinking about rounding errors\n",
    "\n",
    "In your own words, explain what's happening in the following cell:"
   ]
  },
  {
   "cell_type": "code",
   "execution_count": 6,
   "metadata": {
    "collapsed": false
   },
   "outputs": [
    {
     "data": {
      "text/plain": [
       "False"
      ]
     },
     "execution_count": 6,
     "metadata": {},
     "output_type": "execute_result"
    }
   ],
   "source": [
    "0.1+0.1+0.1 == .3"
   ]
  },
  {
   "cell_type": "markdown",
   "metadata": {},
   "source": [
    "In a new cell below this one, explain why the above result is not suprising. What happens if you sum $0.1+0.1$ and compare it to $0.2$? Explain this."
   ]
  },
  {
   "cell_type": "markdown",
   "metadata": {},
   "source": [
    "# 5. Response\n",
    "The answer to the above cell is false because having three .1 adding will produce a small error while having .1+.1 == 2 and .1+.1+.1+.1 == 4 being true.  The compiler notices the small error with .3 and thats why .1+.1+.1 does not equal 0.3."
   ]
  },
  {
   "cell_type": "markdown",
   "metadata": {},
   "source": [
    "## X1. [Extra Credit] \n",
    "\n",
    "INSPIRE is a database of papers in high-energy physics, you can find it here: http://inspirehep.net\n",
    "\n",
    "Write a script in Jupyter that takes a string and opens up a web browser with an INSPIRE search for that string."
   ]
  },
  {
   "cell_type": "code",
   "execution_count": 2,
   "metadata": {
    "collapsed": false
   },
   "outputs": [],
   "source": [
    "def SearchToolInspire():\n",
    "    \"\"\"This should redirect a person to INSPIRE based on what they searched\n",
    "    Input: what the person is looking for on INSPIRE\n",
    "    output: takes user to INSPIRE based on their input\"\"\"\n",
    "    import webbrowser\n",
    "    print(\"Search something from INSPIRE: \")\n",
    "    String = input()\n",
    "\n",
    "    webbrowser.open('http://inspirehep.net/search?ln=en&p=' +String+ '&of=hb&action_search=Search&sf=earliestdate&so=d')\n",
    "    \n",
    "    return"
   ]
  },
  {
   "cell_type": "code",
   "execution_count": 27,
   "metadata": {
    "collapsed": false
   },
   "outputs": [
    {
     "name": "stdout",
     "output_type": "stream",
     "text": [
      "Search something from INSPIRE: \n",
      "physics\n"
     ]
    },
    {
     "data": {
      "text/plain": [
       "True"
      ]
     },
     "execution_count": 27,
     "metadata": {},
     "output_type": "execute_result"
    }
   ],
   "source": [
    "import webbrowser\n",
    "print(\"Search something from INSPIRE: \")\n",
    "String = input()\n",
    "\n",
    "webbrowser.open('http://inspirehep.net/search?ln=en&p=' + String+ '&of=hb&action_search=Search&sf=earliestdate&so=d')"
   ]
  },
  {
   "cell_type": "code",
   "execution_count": 3,
   "metadata": {
    "collapsed": false
   },
   "outputs": [
    {
     "name": "stdout",
     "output_type": "stream",
     "text": [
      "Search something from INSPIRE: \n",
      "physics\n"
     ]
    }
   ],
   "source": [
    "SearchToolInspire()"
   ]
  },
  {
   "cell_type": "code",
   "execution_count": 32,
   "metadata": {
    "collapsed": false
   },
   "outputs": [
    {
     "name": "stdout",
     "output_type": "stream",
     "text": [
      "Help on function SearchToolInspire in module __main__:\n",
      "\n",
      "SearchToolInspire()\n",
      "    This should redirect a person to INSPIRE based on what they searched\n",
      "    Input: string inputed\n",
      "    output: web browser\n",
      "\n"
     ]
    }
   ],
   "source": [
    "help (SearchToolInspire)"
   ]
  },
  {
   "cell_type": "code",
   "execution_count": null,
   "metadata": {
    "collapsed": true
   },
   "outputs": [],
   "source": []
  }
 ],
 "metadata": {
  "kernelspec": {
   "display_name": "Python 3",
   "language": "python",
   "name": "python3"
  },
  "language_info": {
   "codemirror_mode": {
    "name": "ipython",
    "version": 3
   },
   "file_extension": ".py",
   "mimetype": "text/x-python",
   "name": "python",
   "nbconvert_exporter": "python",
   "pygments_lexer": "ipython3",
   "version": "3.6.0"
  }
 },
 "nbformat": 4,
 "nbformat_minor": 1
}
